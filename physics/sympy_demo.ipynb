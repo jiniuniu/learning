{
 "cells": [
  {
   "cell_type": "code",
   "execution_count": 1,
   "metadata": {},
   "outputs": [
    {
     "data": {
      "text/latex": [
       "$\\displaystyle - \\frac{k x^{2}{\\left(t \\right)}}{2} + \\frac{m \\left(\\frac{d}{d t} x{\\left(t \\right)}\\right)^{2}}{2}$"
      ],
      "text/plain": [
       "-k*x(t)**2/2 + m*Derivative(x(t), t)**2/2"
      ]
     },
     "execution_count": 1,
     "metadata": {},
     "output_type": "execute_result"
    }
   ],
   "source": [
    "# pip install sympy\n",
    "from sympy import *\n",
    "\n",
    "x = symbols(r'x', cls=Function)\n",
    "m, k = symbols(\"m k\", real=True, positive=True)\n",
    "t = symbols(\"t\", real=True)\n",
    "\n",
    "L = m/2 * diff(x(t), t)**2 - k/2 * x(t)**2\n",
    "L"
   ]
  },
  {
   "cell_type": "code",
   "execution_count": 2,
   "metadata": {},
   "outputs": [
    {
     "data": {
      "text/latex": [
       "$\\displaystyle - k x{\\left(t \\right)}$"
      ],
      "text/plain": [
       "-k*x(t)"
      ]
     },
     "execution_count": 2,
     "metadata": {},
     "output_type": "execute_result"
    }
   ],
   "source": [
    "dL_dx = diff(L, x(t))\n",
    "dL_dx"
   ]
  },
  {
   "cell_type": "code",
   "execution_count": 3,
   "metadata": {},
   "outputs": [
    {
     "data": {
      "text/latex": [
       "$\\displaystyle m \\frac{d}{d t} x{\\left(t \\right)}$"
      ],
      "text/plain": [
       "m*Derivative(x(t), t)"
      ]
     },
     "execution_count": 3,
     "metadata": {},
     "output_type": "execute_result"
    }
   ],
   "source": [
    "dL_dxdot = diff(L, diff(x(t), t))\n",
    "dL_dxdot"
   ]
  },
  {
   "cell_type": "code",
   "execution_count": 4,
   "metadata": {},
   "outputs": [
    {
     "data": {
      "text/latex": [
       "$\\displaystyle m \\frac{d^{2}}{d t^{2}} x{\\left(t \\right)} = - k x{\\left(t \\right)}$"
      ],
      "text/plain": [
       "Eq(m*Derivative(x(t), (t, 2)), -k*x(t))"
      ]
     },
     "execution_count": 4,
     "metadata": {},
     "output_type": "execute_result"
    }
   ],
   "source": [
    "equ = Eq(diff(dL_dxdot, t), dL_dx)\n",
    "equ"
   ]
  },
  {
   "cell_type": "code",
   "execution_count": 5,
   "metadata": {},
   "outputs": [
    {
     "data": {
      "text/latex": [
       "$\\displaystyle x{\\left(t \\right)} = C_{1} \\sin{\\left(\\frac{\\sqrt{k} t}{\\sqrt{m}} \\right)} + C_{2} \\cos{\\left(\\frac{\\sqrt{k} t}{\\sqrt{m}} \\right)}$"
      ],
      "text/plain": [
       "Eq(x(t), C1*sin(sqrt(k)*t/sqrt(m)) + C2*cos(sqrt(k)*t/sqrt(m)))"
      ]
     },
     "execution_count": 5,
     "metadata": {},
     "output_type": "execute_result"
    }
   ],
   "source": [
    "dsolve(equ, x(t))"
   ]
  },
  {
   "cell_type": "code",
   "execution_count": null,
   "metadata": {},
   "outputs": [],
   "source": []
  },
  {
   "attachments": {},
   "cell_type": "markdown",
   "metadata": {},
   "source": [
    "欧拉-拉格朗日方程是描述物理系统运动的一组微分方程。它们用于找到系统在时间和空间中两个点之间的路径，使得该路径使作用量达到最小。这些方程以欧拉和拉格朗日的名字命名，他们对变分法的发展做出了重要贡献。变分法是处理找到使作用量最小的路径的数学分支。\n",
    "欧拉-拉格朗日方程的公式如下：\n",
    "$$\\frac{d}{dt}\\frac{\\partial L}{\\partial \\dot{q_i}}-\\frac{\\partial L}{\\partial q_i}=0$$\n",
    "其中，$L$是拉格朗日量，$q_i$是广义坐标，$\\dot{q_i}$是广义速度。"
   ]
  },
  {
   "attachments": {},
   "cell_type": "markdown",
   "metadata": {},
   "source": [
    "理想气体在热平衡状态下，其速度分布可以用麦克斯韦-玻尔兹曼分布来描述，其概率密度函数为：\n",
    "$$\n",
    "f(v) = \\left(\\frac{m}{2 \\pi k_B T}\\right)^{\\frac{3}{2}} 4\\pi v^2 e^{-\\frac{mv^2}{2 k_B T}}\n",
    "$$\n",
    "其中，$m$是气体分子的质量，$k_B$是玻尔兹曼常数，$T$是气体的温度，$v$是气体分子的速度。这个分布函数表明，速度越高的气体分子的概率密度越小，符合常识。"
   ]
  },
  {
   "attachments": {},
   "cell_type": "markdown",
   "metadata": {},
   "source": [
    "简谐振子的拉格朗日量为：\n",
    "$L=\\frac{1}{2}m\\dot{x}^2-\\frac{1}{2}kx^2$\n",
    "其中，$m$是振子的质量，$k$是振子的弹性系数，$x$是振子的位移，$\\dot{x}$是振子的速度。\n",
    "拉格朗日量是描述系统运动的函数，它是动能和势能的差，对于简谐振子，动能是振子质量和速度的平方的一半，势能是振子的弹性势能，因此简谐振子的拉格朗日量可以用上述公式表示。通过欧拉-拉格朗日方程，我们可以计算出简谐振子的真实运动轨迹。"
   ]
  },
  {
   "cell_type": "markdown",
   "metadata": {},
   "source": []
  }
 ],
 "metadata": {
  "kernelspec": {
   "display_name": "gpt_env",
   "language": "python",
   "name": "python3"
  },
  "language_info": {
   "codemirror_mode": {
    "name": "ipython",
    "version": 3
   },
   "file_extension": ".py",
   "mimetype": "text/x-python",
   "name": "python",
   "nbconvert_exporter": "python",
   "pygments_lexer": "ipython3",
   "version": "3.11.0"
  },
  "orig_nbformat": 4
 },
 "nbformat": 4,
 "nbformat_minor": 2
}
